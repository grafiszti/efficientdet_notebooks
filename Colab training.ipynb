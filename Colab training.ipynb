{
 "cells": [
  {
   "cell_type": "markdown",
   "metadata": {},
   "source": [
    "# Workspace cleanup"
   ]
  },
  {
   "cell_type": "code",
   "execution_count": null,
   "metadata": {},
   "outputs": [],
   "source": [
    "%cd /content\n",
    "! rm -rf Yet* datasets weights logs experiments *.pth"
   ]
  },
  {
   "cell_type": "markdown",
   "metadata": {},
   "source": [
    "# Setup workspace"
   ]
  },
  {
   "cell_type": "code",
   "execution_count": null,
   "metadata": {},
   "outputs": [],
   "source": [
    "! git clone https://github.com/grafiszti/Yet-Another-EfficientDet-Pytorch.git\n",
    "\n",
    "%cd /content/Yet-Another-EfficientDet-Pytorch\n",
    "! git checkout package_making\n",
    "! pip install -r requirements.txt\n",
    "\n",
    "%cd /content\n",
    "\n",
    "! mkdir weights\n",
    "! wget –q https://github.com/zylo117/Yet-Another-Efficient-Pytorch/releases/download/1.0/efficientdet-d{0..8}.pth\n",
    "! mv *.pth weights\n",
    "! mkdir datasets\n",
    "! mkdir experiments"
   ]
  },
  {
   "cell_type": "markdown",
   "metadata": {},
   "source": [
    "# Utils function to upload trained model checkpoint to gdrive"
   ]
  },
  {
   "cell_type": "code",
   "execution_count": null,
   "metadata": {},
   "outputs": [],
   "source": [
    "from google.colab import auth\n",
    "from googleapiclient.discovery import build\n",
    "from googleapiclient.http import MediaFileUpload\n",
    "import os\n",
    "\n",
    "def authenticate_user():\n",
    "    auth.authenticate_user()\n",
    "    drive_service = build('drive', 'v3')\n",
    "    return drive_service\n",
    "\n",
    "def upload_last_model_to_drive(training_dir: str):\n",
    "    drive_service = authenticate_user()\n",
    "    filepath = training_dir + \"/\" + sorted(os.listdir(training_dir))[-2]\n",
    "\n",
    "    print(f\"File to export: {filepath}\")\n",
    "\n",
    "    file_metadata = {\n",
    "        'name': os.path.basename(filepath), \n",
    "        'mimeType': 'application/octet-stream'\n",
    "    }\n",
    "    media = MediaFileUpload(filepath, mimetype='application/octet-stream', resumable=True)\n",
    "\n",
    "    created = drive_service.files().create(\n",
    "        body=file_metadata,\n",
    "        media_body=media,\n",
    "        fields='id'\n",
    "    ).execute()\n",
    "\n",
    "    print('File ID: {}'.format(created.get('id')))"
   ]
  },
  {
   "cell_type": "markdown",
   "metadata": {},
   "source": [
    "# Create file with project config \n",
    "Zip files should contain dataset in COCO format. "
   ]
  },
  {
   "cell_type": "code",
   "execution_count": null,
   "metadata": {},
   "outputs": [],
   "source": [
    "from google_drive_downloader import GoogleDriveDownloader\n",
    "\n",
    "project_name = \"test_coco_dataset\"\n",
    "\n",
    "datasets_to_download = [\n",
    "  (f\"{project_name}.zip\", \"1mxqzmJLeI7iRlHsVNoRnSNAYAZsOoNkP\")\n",
    "]\n",
    "\n",
    "for filename, id in datasets_to_download:\n",
    "    GoogleDriveDownloader.download_file_from_google_drive(\n",
    "        dest_path=f\"/content/datasets/{filename}\", \n",
    "        file_id=id,\n",
    "        unzip=True, \n",
    "        showsize=True,\n",
    "        overwrite=True,\n",
    "    )\n",
    "    \n",
    "project_config=f\"\"\"\n",
    "project_name: {project_name}  # also the folder name of the dataset that under data_path folder\n",
    "train_set: train\n",
    "val_set: val\n",
    "num_gpus: 1\n",
    "\n",
    "# mean and std in RGB order, actually this part should remain unchanged as long as your dataset is similar to coco.\n",
    "mean: [0.485, 0.456, 0.406]\n",
    "std: [0.229, 0.224, 0.225]\n",
    "\n",
    "# this is coco anchors, change it if necessary\n",
    "anchors_scales: '[2 ** 0, 2 ** (1.0 / 3.0), 2 ** (2.0 / 3.0)]'\n",
    "anchors_ratios: '[(1.0, 1.0), (1.4, 0.7), (0.7, 1.4)]'\n",
    "\n",
    "# must match your dataset's category_id. category_id is one_indexed.\n",
    "obj_list: [\"car\"]\n",
    "\"\"\"\n",
    "\n",
    "with open(f\"{project_name}.yml\", \"w\") as f: \n",
    "  f.write(project_config)"
   ]
  },
  {
   "cell_type": "markdown",
   "metadata": {},
   "source": [
    "# Run training\n",
    "Change th `PROJECT_NAME` to your project name."
   ]
  },
  {
   "cell_type": "code",
   "execution_count": null,
   "metadata": {},
   "outputs": [],
   "source": [
    "! python Yet-Another-EfficientDet-Pytorch/train.py \\\n",
    "    -p PROJECT_NAME.yml \\\n",
    "    -c 2 \\\n",
    "    --batch_size 2 \\\n",
    "    --optim adamw \\\n",
    "    --lr 0.0001 \\\n",
    "    --num_epochs 1 \\\n",
    "    -w weights/efficientdet-d0.pth \\\n",
    "    --log_path experiments/logs_d0_epochs1_batch_2_lr0.0001_headonlyFalse \\\n",
    "    --saved_path experiments/logs_d0_epochs1_batch_2_lr0.0001_headonlyFalse \\\n",
    "    --head_only False"
   ]
  }
 ],
 "metadata": {
  "kernelspec": {
   "display_name": "Python 3",
   "language": "python",
   "name": "python3"
  },
  "language_info": {
   "codemirror_mode": {
    "name": "ipython",
    "version": 3
   },
   "file_extension": ".py",
   "mimetype": "text/x-python",
   "name": "python",
   "nbconvert_exporter": "python",
   "pygments_lexer": "ipython3",
   "version": "3.7.5"
  }
 },
 "nbformat": 4,
 "nbformat_minor": 4
}
